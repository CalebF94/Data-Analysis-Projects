{
 "cells": [
  {
   "cell_type": "code",
   "execution_count": 1,
   "id": "e6de4927",
   "metadata": {},
   "outputs": [],
   "source": [
    "import matplotlib.pyplot as plt\n",
    "import scipy.stats\n",
    "import numpy as np\n",
    "import pandas as pd\n",
    "import os"
   ]
  },
  {
   "cell_type": "code",
   "execution_count": 68,
   "id": "431bd14f",
   "metadata": {},
   "outputs": [],
   "source": [
    "# Function to read files from folder\n",
    "def read_files(folder_path):\n",
    "    files = os.listdir(folder_path)\n",
    "    df_list = []\n",
    "    \n",
    "    for f in files:\n",
    "        #print(folder_path+f)\n",
    "        temp_df = pd.read_csv(folder_path+f, dtype='object')\n",
    "        df_list.append(temp_df)\n",
    "        \n",
    "    return df_list\n",
    "\n",
    "\n",
    "course_data, tech_data = read_files(\"data/\")"
   ]
  },
  {
   "cell_type": "markdown",
   "id": "f8495140",
   "metadata": {},
   "source": [
    "## Tech Data Cleaning"
   ]
  },
  {
   "cell_type": "code",
   "execution_count": 135,
   "id": "08512c38",
   "metadata": {},
   "outputs": [],
   "source": [
    "# Convert data types\n",
    "tech_data = tech_data.astype({\n",
    "    'Common Dealer Enterprise Name': \"string\",\n",
    "    'Common Dealer Contract Type': \"string\",\n",
    "    'Common Dealer State': \"string\",\n",
    "    'Dealer AR': \"string\",\n",
    "    'Dealer Name': \"string\",\n",
    "    'Employee SN': \"string\",\n",
    "    'Dealer Employee Count': int,\n",
    "    'Emp Start Date': 'datetime64[ns]',\n",
    "    'Emp Terminated Date': 'datetime64[ns]',\n",
    "    'Account Control': \"string\"\n",
    "    \n",
    "})\n",
    "\n",
    "# rename columns\n",
    "tech_data.rename(columns = {\n",
    "    'Common Dealer Enterprise Name': \"Enterprise\",\n",
    "    'Common Dealer Contract Type': \"Contract_Type\",\n",
    "    'Common Dealer State': \"State\",\n",
    "    'Dealer AR': \"AR#\",\n",
    "    'Dealer Name': \"Dealer\",\n",
    "    'Employee SN': \"Emp_SN\",\n",
    "    'Dealer Employee Count': 'Employees',\n",
    "    'Emp Start Date': \"Start_dt\",\n",
    "    'Emp Terminated Date': \"Term_dt\",\n",
    "    'Account Control': \"Account_Control\"\n",
    "}, inplace=True)\n",
    "\n",
    "# add leading zeros to Emp_SN\n",
    "tech_data['Emp_SN'] = tech_data['Emp_SN'].str.pad(width=8, side='left', fillchar='0')"
   ]
  },
  {
   "cell_type": "markdown",
   "id": "9efec8cf",
   "metadata": {},
   "source": [
    "## Course Data Cleaning"
   ]
  },
  {
   "cell_type": "code",
   "execution_count": 151,
   "id": "e281226e",
   "metadata": {},
   "outputs": [],
   "source": [
    "course_data = course_data.rename(columns = {\n",
    "    'Dealer AR': \"AR#\",\n",
    "    'Dealer Name': \"Dealer\",\n",
    "    'Employee SN': \"Emp_SN\",\n",
    "    'Course ID': \"Course_ID\",\n",
    "    'Course Nickname': \"Course_Nickname\",\n",
    "    'Points (Bobcat FL)': \"Training_Pts\",\n",
    "    'Course Type': \"Course_Type\",\n",
    "    '# of Completed Courses': \"Completed_Courses\",\n",
    "    '# of ILT (0-5yr)': \"Courses_0-5\",\n",
    "    '# of ILT (6-10yr)': \"Courses_6-10\",\n",
    "    '# of Completed Courses (11+ yr)': \"Courses_11+\",\n",
    "    'Completion Date': 'Completion_dt'\n",
    "})\n",
    "\n",
    "# replace null strings and numbers\n",
    "course_data.iloc[:, [3, 4, 6]] = course_data.iloc[:, [3, 4, 6]].fillna(\"-\")\n",
    "course_data.iloc[:, [7, 8, 9, 10]] = course_data.iloc[:, [7, 8, 9, 10]].fillna(0)\n",
    "\n",
    "# Convert data types\n",
    "course_data = course_data.astype({\n",
    "    'AR#': \"string\",\n",
    "    'Dealer': \"string\",\n",
    "    'Emp_SN': \"string\",\n",
    "    'Course_ID': \"string\",\n",
    "    'Course_Nickname': \"string\",\n",
    "    'Training_Pts': float,\n",
    "    'Course_Type': \"string\",\n",
    "    'Completed_Courses': int,\n",
    "    'Courses_0-5': int,\n",
    "    'Courses_6-10': int,\n",
    "    'Courses_11+': int,\n",
    "    'Completion_dt': 'datetime64[ns]'\n",
    "})"
   ]
  }
 ],
 "metadata": {
  "kernelspec": {
   "display_name": "Python 3 (ipykernel)",
   "language": "python",
   "name": "python3"
  },
  "language_info": {
   "codemirror_mode": {
    "name": "ipython",
    "version": 3
   },
   "file_extension": ".py",
   "mimetype": "text/x-python",
   "name": "python",
   "nbconvert_exporter": "python",
   "pygments_lexer": "ipython3",
   "version": "3.11.5"
  }
 },
 "nbformat": 4,
 "nbformat_minor": 5
}
