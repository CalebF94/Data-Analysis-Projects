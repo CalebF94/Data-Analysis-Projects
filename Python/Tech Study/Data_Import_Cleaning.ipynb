{
 "cells": [
  {
   "cell_type": "code",
   "execution_count": 9,
   "id": "af4d64c3",
   "metadata": {},
   "outputs": [],
   "source": [
    "    import matplotlib.pyplot as plt\n",
    "    import matplotlib.dates as dates\n",
    "    import scipy.stats\n",
    "    import numpy as np\n",
    "    import pandas as pd\n",
    "    import os\n",
    "    from datetime import date\n",
    "    \n",
    "\n",
    "    # Function to read files from folder\n",
    "    def read_files(folder_path):\n",
    "        files = os.listdir(folder_path)\n",
    "        df_list = []\n",
    "\n",
    "        for f in files:\n",
    "            #print(folder_path+f)\n",
    "            temp_df = pd.read_csv(folder_path+f, dtype='object')\n",
    "            df_list.append(temp_df)\n",
    "\n",
    "        return df_list\n",
    "\n",
    "\n",
    "    course_data, tech_data = read_files(\"data/\")"
   ]
  },
  {
   "cell_type": "markdown",
   "id": "c00723d7",
   "metadata": {},
   "source": [
    "## Course Data"
   ]
  },
  {
   "cell_type": "code",
   "execution_count": 55,
   "id": "9214527c",
   "metadata": {},
   "outputs": [],
   "source": [
    "def get_tech_data():\n",
    "    \n",
    "    tech_data = pd.read_csv(\"data/Tech_Level.csv\", dtype='object')\n",
    "\n",
    "    # Convert data types\n",
    "    tech_data = tech_data.astype({\n",
    "        'Common Dealer Enterprise Name': \"string\",\n",
    "        'Common Dealer Contract Type': \"string\",\n",
    "        'Common Dealer State': \"string\",\n",
    "        'Dealer AR': \"string\",\n",
    "        'Dealer Name': \"string\",\n",
    "        'Employee SN': \"string\",\n",
    "        'Dealer Employee Count': int,\n",
    "        'Emp Start Date': 'datetime64[ns]',\n",
    "        'Emp Terminated Date': 'datetime64[ns]',\n",
    "        'Account Control': \"string\"\n",
    "\n",
    "    })\n",
    "\n",
    "    # rename columns\n",
    "    tech_data.rename(columns = {\n",
    "        'Common Dealer Enterprise Name': \"Enterprise\",\n",
    "        'Common Dealer Contract Type': \"Contract_Type\",\n",
    "        'Common Dealer State': \"State\",\n",
    "        'Dealer AR': \"AR#\",\n",
    "        'Dealer Name': \"Dealer\",\n",
    "        'Employee SN': \"Emp_SN\",\n",
    "        'Dealer Employee Count': 'Employees',\n",
    "        'Emp Start Date': \"Start_dt\",\n",
    "        'Emp Terminated Date': \"Term_dt\",\n",
    "        'Account Control': \"Account_Control\"\n",
    "    }, inplace=True)\n",
    "\n",
    "    # add leading zeros to Emp_SN\n",
    "    tech_data['Emp_SN'] = tech_data['Emp_SN'].str.pad(width=8, side='left', fillchar='0')\n",
    "\n",
    "    # calculate years of service\n",
    "    tech_data['YOE'] = round((pd.to_datetime(date.today())-tech_data['Start_dt']).where(np.isnat(tech_data['Term_dt']),tech_data['Term_dt']-tech_data['Start_dt'] ).dt.days / 365.25, 2)\n",
    "    \n",
    "    return tech_data"
   ]
  },
  {
   "cell_type": "markdown",
   "id": "23e4b9f9",
   "metadata": {},
   "source": [
    "## Course Data Cleaning"
   ]
  },
  {
   "cell_type": "code",
   "execution_count": 56,
   "id": "e6de4927",
   "metadata": {},
   "outputs": [],
   "source": [
    "def get_course_data():   \n",
    "    \n",
    "    course_data = pd.read_csv(\"data/Course_Level.csv\", dtype='object')\n",
    "    \n",
    "    # Renaming columns to be more convenient\n",
    "    course_data = course_data.rename(columns = {\n",
    "        'Dealer AR': \"AR#\",\n",
    "        'Dealer Name': \"Dealer\",\n",
    "        'Employee SN': \"Emp_SN\",\n",
    "        'Course ID': \"Course_ID\",\n",
    "        'Course Nickname': \"Course_Nickname\",\n",
    "        'Points (Bobcat FL)': \"Training_Pts\",\n",
    "        'Course Type': \"Course_Type\",\n",
    "        '# of Completed Courses': \"Completed_Courses\",\n",
    "        '# of ILT (0-5yr)': \"Courses_0-5\",\n",
    "        '# of ILT (6-10yr)': \"Courses_6-10\",\n",
    "        '# of Completed Courses (11+ yr)': \"Courses_11+\",\n",
    "        'Completion Date': 'Completion_dt'\n",
    "    })\n",
    "\n",
    "    # replace null strings and numbers\n",
    "    course_data.iloc[:, [3, 4, 6]] = course_data.iloc[:, [3, 4, 6]].fillna(\"-\")\n",
    "    course_data.iloc[:, [7, 8, 9, 10]] = course_data.iloc[:, [7, 8, 9, 10]].fillna(0)\n",
    "\n",
    "    # Convert data types\n",
    "    course_data = course_data.astype({\n",
    "        'AR#': \"string\",\n",
    "        'Dealer': \"string\",\n",
    "        'Emp_SN': \"string\",\n",
    "        'Course_ID': \"string\",\n",
    "        'Course_Nickname': \"string\",\n",
    "        'Training_Pts': float,\n",
    "        'Course_Type': \"string\",\n",
    "        'Completed_Courses': int,\n",
    "        'Courses_0-5': int,\n",
    "        'Courses_6-10': int,\n",
    "        'Courses_11+': int,\n",
    "        'Completion_dt': 'datetime64[ns]'\n",
    "    })\n",
    "    \n",
    "    course_data['Course_Type'] = np.where(course_data['Training_Pts'] == 0, 'Other', course_data['Course_Type'])\n",
    "    course_data['Course_Type'] = np.where(course_data['Training_Pts'] == 1, 'E-Learning', course_data['Course_Type'])\n",
    "    course_data['Course_Type'] = np.where(course_data['Training_Pts'] == 2, 'E-Learning', course_data['Course_Type'])\n",
    "    course_data['Course_Type'] = np.where(course_data['Training_Pts'] >= 8, 'ILT', course_data['Course_Type'])\n",
    "    \n",
    "    return course_data"
   ]
  },
  {
   "cell_type": "code",
   "execution_count": 1,
   "id": "998b6743",
   "metadata": {},
   "outputs": [
    {
     "ename": "NameError",
     "evalue": "name 'course_data' is not defined",
     "output_type": "error",
     "traceback": [
      "\u001b[1;31m---------------------------------------------------------------------------\u001b[0m",
      "\u001b[1;31mNameError\u001b[0m                                 Traceback (most recent call last)",
      "Cell \u001b[1;32mIn[1], line 1\u001b[0m\n\u001b[1;32m----> 1\u001b[0m course_data\n",
      "\u001b[1;31mNameError\u001b[0m: name 'course_data' is not defined"
     ]
    }
   ],
   "source": []
  },
  {
   "cell_type": "code",
   "execution_count": null,
   "id": "b720f898",
   "metadata": {},
   "outputs": [],
   "source": []
  }
 ],
 "metadata": {
  "kernelspec": {
   "display_name": "Python 3 (ipykernel)",
   "language": "python",
   "name": "python3"
  },
  "language_info": {
   "codemirror_mode": {
    "name": "ipython",
    "version": 3
   },
   "file_extension": ".py",
   "mimetype": "text/x-python",
   "name": "python",
   "nbconvert_exporter": "python",
   "pygments_lexer": "ipython3",
   "version": "3.11.5"
  }
 },
 "nbformat": 4,
 "nbformat_minor": 5
}
