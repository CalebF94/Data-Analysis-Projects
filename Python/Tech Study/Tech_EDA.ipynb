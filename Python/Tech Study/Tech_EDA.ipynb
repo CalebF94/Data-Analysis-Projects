{
 "cells": [
  {
   "cell_type": "code",
   "execution_count": 13,
   "id": "8ebd4037",
   "metadata": {},
   "outputs": [],
   "source": [
    "%run Data_Import_Cleaning.ipynb\n",
    "tech_data = get_tech_data()\n",
    "course_data = get_course_data()"
   ]
  },
  {
   "cell_type": "markdown",
   "id": "29286ebf",
   "metadata": {},
   "source": [
    "## Tech Exploratory Data Analysis"
   ]
  },
  {
   "cell_type": "code",
   "execution_count": 14,
   "id": "6210927b",
   "metadata": {},
   "outputs": [
    {
     "data": {
      "text/html": [
       "<div>\n",
       "<style scoped>\n",
       "    .dataframe tbody tr th:only-of-type {\n",
       "        vertical-align: middle;\n",
       "    }\n",
       "\n",
       "    .dataframe tbody tr th {\n",
       "        vertical-align: top;\n",
       "    }\n",
       "\n",
       "    .dataframe thead th {\n",
       "        text-align: right;\n",
       "    }\n",
       "</style>\n",
       "<table border=\"1\" class=\"dataframe\">\n",
       "  <thead>\n",
       "    <tr style=\"text-align: right;\">\n",
       "      <th></th>\n",
       "      <th>Enterprise</th>\n",
       "      <th>Contract_Type</th>\n",
       "      <th>State</th>\n",
       "      <th>AR#</th>\n",
       "      <th>Dealer</th>\n",
       "      <th>Emp_SN</th>\n",
       "      <th>Employees</th>\n",
       "      <th>Start_dt</th>\n",
       "      <th>Term_dt</th>\n",
       "      <th>Account_Control</th>\n",
       "      <th>YOE</th>\n",
       "    </tr>\n",
       "  </thead>\n",
       "  <tbody>\n",
       "    <tr>\n",
       "      <th>0</th>\n",
       "      <td>Liftow Limited</td>\n",
       "      <td>Full-Line</td>\n",
       "      <td>NS</td>\n",
       "      <td>05520</td>\n",
       "      <td>Bobcat Atlantic, Dartmouth, NS</td>\n",
       "      <td>00000093</td>\n",
       "      <td>1</td>\n",
       "      <td>2004-10-16</td>\n",
       "      <td>2017-03-03</td>\n",
       "      <td>DEACTIVATED</td>\n",
       "      <td>12.38</td>\n",
       "    </tr>\n",
       "    <tr>\n",
       "      <th>1</th>\n",
       "      <td>Best Line Leasing, Inc.</td>\n",
       "      <td>Full-Line</td>\n",
       "      <td>PA</td>\n",
       "      <td>01436</td>\n",
       "      <td>Best Line Leasing, Inc, Pennsdale, PA</td>\n",
       "      <td>00000107</td>\n",
       "      <td>1</td>\n",
       "      <td>2004-10-16</td>\n",
       "      <td>2020-01-07</td>\n",
       "      <td>DEACTIVATED</td>\n",
       "      <td>15.23</td>\n",
       "    </tr>\n",
       "    <tr>\n",
       "      <th>2</th>\n",
       "      <td>Streacker Tractor Sales, Inc.</td>\n",
       "      <td>Construction</td>\n",
       "      <td>OH</td>\n",
       "      <td>08788</td>\n",
       "      <td>Streacker Tractor Sales, Inc, Findlay, OH</td>\n",
       "      <td>00000153</td>\n",
       "      <td>1</td>\n",
       "      <td>2004-10-16</td>\n",
       "      <td>NaT</td>\n",
       "      <td>ACTIVATED</td>\n",
       "      <td>19.51</td>\n",
       "    </tr>\n",
       "    <tr>\n",
       "      <th>3</th>\n",
       "      <td>Bobcat Plus, Inc.</td>\n",
       "      <td>Full-Line</td>\n",
       "      <td>WI</td>\n",
       "      <td>01034</td>\n",
       "      <td>Bobcat Plus, Inc, Butler, WI</td>\n",
       "      <td>00000204</td>\n",
       "      <td>1</td>\n",
       "      <td>2004-10-16</td>\n",
       "      <td>2014-05-14</td>\n",
       "      <td>DEACTIVATED</td>\n",
       "      <td>9.57</td>\n",
       "    </tr>\n",
       "    <tr>\n",
       "      <th>4</th>\n",
       "      <td>Smith Bros. Contracting Equipment, Inc.</td>\n",
       "      <td>Full-Line</td>\n",
       "      <td>FL</td>\n",
       "      <td>05469</td>\n",
       "      <td>Bobcat of Palm Beach, West Palm Beach, FL</td>\n",
       "      <td>00000231</td>\n",
       "      <td>1</td>\n",
       "      <td>2004-10-16</td>\n",
       "      <td>2008-02-15</td>\n",
       "      <td>DEACTIVATED</td>\n",
       "      <td>3.33</td>\n",
       "    </tr>\n",
       "  </tbody>\n",
       "</table>\n",
       "</div>"
      ],
      "text/plain": [
       "                                Enterprise Contract_Type State    AR#  \\\n",
       "0                           Liftow Limited     Full-Line    NS  05520   \n",
       "1                  Best Line Leasing, Inc.     Full-Line    PA  01436   \n",
       "2            Streacker Tractor Sales, Inc.  Construction    OH  08788   \n",
       "3                        Bobcat Plus, Inc.     Full-Line    WI  01034   \n",
       "4  Smith Bros. Contracting Equipment, Inc.     Full-Line    FL  05469   \n",
       "\n",
       "                                      Dealer    Emp_SN  Employees   Start_dt  \\\n",
       "0             Bobcat Atlantic, Dartmouth, NS  00000093          1 2004-10-16   \n",
       "1      Best Line Leasing, Inc, Pennsdale, PA  00000107          1 2004-10-16   \n",
       "2  Streacker Tractor Sales, Inc, Findlay, OH  00000153          1 2004-10-16   \n",
       "3               Bobcat Plus, Inc, Butler, WI  00000204          1 2004-10-16   \n",
       "4  Bobcat of Palm Beach, West Palm Beach, FL  00000231          1 2004-10-16   \n",
       "\n",
       "     Term_dt Account_Control    YOE  \n",
       "0 2017-03-03     DEACTIVATED  12.38  \n",
       "1 2020-01-07     DEACTIVATED  15.23  \n",
       "2        NaT       ACTIVATED  19.51  \n",
       "3 2014-05-14     DEACTIVATED   9.57  \n",
       "4 2008-02-15     DEACTIVATED   3.33  "
      ]
     },
     "execution_count": 14,
     "metadata": {},
     "output_type": "execute_result"
    }
   ],
   "source": [
    "tech_data.head()"
   ]
  },
  {
   "cell_type": "code",
   "execution_count": 20,
   "id": "c7d69f05",
   "metadata": {},
   "outputs": [
    {
     "data": {
      "image/png": "[encoded data removed]",
      "text/plain": [
       "<Figure size 640x480 with 1 Axes>"
      ]
     },
     "metadata": {},
     "output_type": "display_data"
    }
   ],
   "source": [
    "fig, ax = plt.subplots()\n",
    "tech_data['Account_Control'].value_counts().plot(kind='bar')\n",
    "\n",
    "plt.show()"
   ]
  },
  {
   "cell_type": "code",
   "execution_count": null,
   "id": "29691c4a",
   "metadata": {},
   "outputs": [],
   "source": []
  }
 ],
 "metadata": {
  "kernelspec": {
   "display_name": "Python 3 (ipykernel)",
   "language": "python",
   "name": "python3"
  },
  "language_info": {
   "codemirror_mode": {
    "name": "ipython",
    "version": 3
   },
   "file_extension": ".py",
   "mimetype": "text/x-python",
   "name": "python",
   "nbconvert_exporter": "python",
   "pygments_lexer": "ipython3",
   "version": "3.11.5"
  }
 },
 "nbformat": 4,
 "nbformat_minor": 5
}
