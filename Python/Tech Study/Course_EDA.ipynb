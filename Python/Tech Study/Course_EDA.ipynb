{
 "cells": [
  {
   "cell_type": "code",
   "execution_count": 35,
   "id": "d10df5f7",
   "metadata": {},
   "outputs": [],
   "source": [
    "%run Data_Import_Cleaning.ipynb\n",
    "course_data = get_course_data()"
   ]
  },
  {
   "cell_type": "markdown",
   "id": "10a5d6f0",
   "metadata": {},
   "source": [
    "## Tech Exploratory Data Analysis\n",
    "\n",
    "In the EDA I want to look at different things related to the technician information. Things such as:\n",
    "1. TBD"
   ]
  },
  {
   "cell_type": "code",
   "execution_count": 36,
   "id": "38f5573e",
   "metadata": {},
   "outputs": [],
   "source": [
    "samp = course_data.head(200)"
   ]
  },
  {
   "cell_type": "code",
   "execution_count": null,
   "id": "e0c049a4",
   "metadata": {},
   "outputs": [],
   "source": []
  },
  {
   "cell_type": "code",
   "execution_count": null,
   "id": "d714ebcd",
   "metadata": {},
   "outputs": [],
   "source": []
  }
 ],
 "metadata": {
  "kernelspec": {
   "display_name": "Python 3 (ipykernel)",
   "language": "python",
   "name": "python3"
  },
  "language_info": {
   "codemirror_mode": {
    "name": "ipython",
    "version": 3
   },
   "file_extension": ".py",
   "mimetype": "text/x-python",
   "name": "python",
   "nbconvert_exporter": "python",
   "pygments_lexer": "ipython3",
   "version": "3.11.5"
  }
 },
 "nbformat": 4,
 "nbformat_minor": 5
}
